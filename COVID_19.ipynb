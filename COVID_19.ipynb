{
  "nbformat": 4,
  "nbformat_minor": 0,
  "metadata": {
    "colab": {
      "name": "COVID-19.ipynb",
      "provenance": []
    },
    "kernelspec": {
      "name": "python3",
      "display_name": "Python 3"
    }
  },
  "cells": [
    {
      "cell_type": "code",
      "metadata": {
        "id": "Fat0NsNf3kxH",
        "colab_type": "code",
        "colab": {}
      },
      "source": [
        "import pandas as pd\n",
        "import numpy as np"
      ],
      "execution_count": 0,
      "outputs": []
    },
    {
      "cell_type": "code",
      "metadata": {
        "id": "1vQaKYmF44_J",
        "colab_type": "code",
        "colab": {}
      },
      "source": [
        "df = pd.read_csv('COVID-19.csv')"
      ],
      "execution_count": 0,
      "outputs": []
    },
    {
      "cell_type": "code",
      "metadata": {
        "id": "DfxWiB0m4_aL",
        "colab_type": "code",
        "colab": {
          "base_uri": "https://localhost:8080/",
          "height": 495
        },
        "outputId": "36bea49b-f1d4-473c-d5f8-aa3565f231d7"
      },
      "source": [
        "df.info()"
      ],
      "execution_count": 3,
      "outputs": [
        {
          "output_type": "stream",
          "text": [
            "<class 'pandas.core.frame.DataFrame'>\n",
            "RangeIndex: 127 entries, 0 to 126\n",
            "Data columns (total 21 columns):\n",
            " #   Column                                Non-Null Count  Dtype  \n",
            "---  ------                                --------------  -----  \n",
            " 0   Sno                                   127 non-null    int64  \n",
            " 1   age                                   127 non-null    int64  \n",
            " 2   gender                                127 non-null    int64  \n",
            " 3   body temperature                      127 non-null    float64\n",
            " 4   Dry Cough                             127 non-null    int64  \n",
            " 5   sour throat                           127 non-null    int64  \n",
            " 6   weakness                              127 non-null    int64  \n",
            " 7   breathing problem                     127 non-null    int64  \n",
            " 8   drowsiness                            127 non-null    int64  \n",
            " 9   pain in chest                         127 non-null    int64  \n",
            " 10  travel history to infected countries  127 non-null    int64  \n",
            " 11  diabetes                              127 non-null    int64  \n",
            " 12  heart disease                         127 non-null    int64  \n",
            " 13  lung disease                          127 non-null    int64  \n",
            " 14  stroke or reduced immunity            127 non-null    int64  \n",
            " 15  symptoms progressed                   127 non-null    int64  \n",
            " 16  high blood pressue                    127 non-null    int64  \n",
            " 17  kidney disease                        127 non-null    int64  \n",
            " 18  change in appetide                    127 non-null    int64  \n",
            " 19  Loss of sense of smell                127 non-null    int64  \n",
            " 20  Corona result                         127 non-null    int64  \n",
            "dtypes: float64(1), int64(20)\n",
            "memory usage: 21.0 KB\n"
          ],
          "name": "stdout"
        }
      ]
    },
    {
      "cell_type": "code",
      "metadata": {
        "id": "4xD7rQvYVBOS",
        "colab_type": "code",
        "colab": {}
      },
      "source": [
        "bins= [0,10,20,55,100]\n",
        "labels = ['Kids','Teen','Adult','Old Age']\n",
        "Age = pd.cut(df['age'], bins=bins, labels=labels, right=False)"
      ],
      "execution_count": 0,
      "outputs": []
    },
    {
      "cell_type": "code",
      "metadata": {
        "id": "ZEM1E2hZaO3B",
        "colab_type": "code",
        "colab": {
          "base_uri": "https://localhost:8080/",
          "height": 239
        },
        "outputId": "c87087b8-f1ff-4ebf-ab91-8229cba4acd6"
      },
      "source": [
        "Age"
      ],
      "execution_count": 5,
      "outputs": [
        {
          "output_type": "execute_result",
          "data": {
            "text/plain": [
              "0        Adult\n",
              "1         Teen\n",
              "2      Old Age\n",
              "3        Adult\n",
              "4        Adult\n",
              "        ...   \n",
              "122      Adult\n",
              "123      Adult\n",
              "124      Adult\n",
              "125      Adult\n",
              "126      Adult\n",
              "Name: age, Length: 127, dtype: category\n",
              "Categories (4, object): [Kids < Teen < Adult < Old Age]"
            ]
          },
          "metadata": {
            "tags": []
          },
          "execution_count": 5
        }
      ]
    },
    {
      "cell_type": "code",
      "metadata": {
        "id": "1DJpfh4iZTJD",
        "colab_type": "code",
        "colab": {}
      },
      "source": [
        "df[\"Age\"]=Age\n",
        "df=df.drop(['age'],axis=1)"
      ],
      "execution_count": 0,
      "outputs": []
    },
    {
      "cell_type": "code",
      "metadata": {
        "id": "c0BDHvCaaE5T",
        "colab_type": "code",
        "colab": {
          "base_uri": "https://localhost:8080/",
          "height": 310
        },
        "outputId": "bd0d83bc-a3f1-42ee-e580-ce0e1b7e76a8"
      },
      "source": [
        "df.head()"
      ],
      "execution_count": 7,
      "outputs": [
        {
          "output_type": "execute_result",
          "data": {
            "text/html": [
              "<div>\n",
              "<style scoped>\n",
              "    .dataframe tbody tr th:only-of-type {\n",
              "        vertical-align: middle;\n",
              "    }\n",
              "\n",
              "    .dataframe tbody tr th {\n",
              "        vertical-align: top;\n",
              "    }\n",
              "\n",
              "    .dataframe thead th {\n",
              "        text-align: right;\n",
              "    }\n",
              "</style>\n",
              "<table border=\"1\" class=\"dataframe\">\n",
              "  <thead>\n",
              "    <tr style=\"text-align: right;\">\n",
              "      <th></th>\n",
              "      <th>Sno</th>\n",
              "      <th>gender</th>\n",
              "      <th>body temperature</th>\n",
              "      <th>Dry Cough</th>\n",
              "      <th>sour throat</th>\n",
              "      <th>weakness</th>\n",
              "      <th>breathing problem</th>\n",
              "      <th>drowsiness</th>\n",
              "      <th>pain in chest</th>\n",
              "      <th>travel history to infected countries</th>\n",
              "      <th>diabetes</th>\n",
              "      <th>heart disease</th>\n",
              "      <th>lung disease</th>\n",
              "      <th>stroke or reduced immunity</th>\n",
              "      <th>symptoms progressed</th>\n",
              "      <th>high blood pressue</th>\n",
              "      <th>kidney disease</th>\n",
              "      <th>change in appetide</th>\n",
              "      <th>Loss of sense of smell</th>\n",
              "      <th>Corona result</th>\n",
              "      <th>Age</th>\n",
              "    </tr>\n",
              "  </thead>\n",
              "  <tbody>\n",
              "    <tr>\n",
              "      <th>0</th>\n",
              "      <td>1</td>\n",
              "      <td>1</td>\n",
              "      <td>98.6</td>\n",
              "      <td>0</td>\n",
              "      <td>0</td>\n",
              "      <td>0</td>\n",
              "      <td>0</td>\n",
              "      <td>0</td>\n",
              "      <td>0</td>\n",
              "      <td>0</td>\n",
              "      <td>0</td>\n",
              "      <td>0</td>\n",
              "      <td>0</td>\n",
              "      <td>0</td>\n",
              "      <td>0</td>\n",
              "      <td>0</td>\n",
              "      <td>0</td>\n",
              "      <td>0</td>\n",
              "      <td>0</td>\n",
              "      <td>0</td>\n",
              "      <td>Adult</td>\n",
              "    </tr>\n",
              "    <tr>\n",
              "      <th>1</th>\n",
              "      <td>2</td>\n",
              "      <td>1</td>\n",
              "      <td>99.0</td>\n",
              "      <td>1</td>\n",
              "      <td>0</td>\n",
              "      <td>0</td>\n",
              "      <td>0</td>\n",
              "      <td>0</td>\n",
              "      <td>0</td>\n",
              "      <td>0</td>\n",
              "      <td>0</td>\n",
              "      <td>0</td>\n",
              "      <td>0</td>\n",
              "      <td>0</td>\n",
              "      <td>0</td>\n",
              "      <td>0</td>\n",
              "      <td>0</td>\n",
              "      <td>0</td>\n",
              "      <td>0</td>\n",
              "      <td>0</td>\n",
              "      <td>Teen</td>\n",
              "    </tr>\n",
              "    <tr>\n",
              "      <th>2</th>\n",
              "      <td>3</td>\n",
              "      <td>0</td>\n",
              "      <td>102.0</td>\n",
              "      <td>1</td>\n",
              "      <td>1</td>\n",
              "      <td>1</td>\n",
              "      <td>1</td>\n",
              "      <td>1</td>\n",
              "      <td>1</td>\n",
              "      <td>0</td>\n",
              "      <td>0</td>\n",
              "      <td>0</td>\n",
              "      <td>0</td>\n",
              "      <td>0</td>\n",
              "      <td>0</td>\n",
              "      <td>0</td>\n",
              "      <td>0</td>\n",
              "      <td>1</td>\n",
              "      <td>0</td>\n",
              "      <td>1</td>\n",
              "      <td>Old Age</td>\n",
              "    </tr>\n",
              "    <tr>\n",
              "      <th>3</th>\n",
              "      <td>4</td>\n",
              "      <td>0</td>\n",
              "      <td>100.0</td>\n",
              "      <td>0</td>\n",
              "      <td>0</td>\n",
              "      <td>0</td>\n",
              "      <td>0</td>\n",
              "      <td>1</td>\n",
              "      <td>1</td>\n",
              "      <td>1</td>\n",
              "      <td>1</td>\n",
              "      <td>0</td>\n",
              "      <td>0</td>\n",
              "      <td>0</td>\n",
              "      <td>1</td>\n",
              "      <td>1</td>\n",
              "      <td>0</td>\n",
              "      <td>1</td>\n",
              "      <td>0</td>\n",
              "      <td>2</td>\n",
              "      <td>Adult</td>\n",
              "    </tr>\n",
              "    <tr>\n",
              "      <th>4</th>\n",
              "      <td>5</td>\n",
              "      <td>1</td>\n",
              "      <td>99.2</td>\n",
              "      <td>0</td>\n",
              "      <td>1</td>\n",
              "      <td>0</td>\n",
              "      <td>1</td>\n",
              "      <td>0</td>\n",
              "      <td>0</td>\n",
              "      <td>1</td>\n",
              "      <td>0</td>\n",
              "      <td>0</td>\n",
              "      <td>1</td>\n",
              "      <td>1</td>\n",
              "      <td>1</td>\n",
              "      <td>0</td>\n",
              "      <td>0</td>\n",
              "      <td>0</td>\n",
              "      <td>1</td>\n",
              "      <td>2</td>\n",
              "      <td>Adult</td>\n",
              "    </tr>\n",
              "  </tbody>\n",
              "</table>\n",
              "</div>"
            ],
            "text/plain": [
              "   Sno  gender  ...  Corona result      Age\n",
              "0    1       1  ...              0    Adult\n",
              "1    2       1  ...              0     Teen\n",
              "2    3       0  ...              1  Old Age\n",
              "3    4       0  ...              2    Adult\n",
              "4    5       1  ...              2    Adult\n",
              "\n",
              "[5 rows x 21 columns]"
            ]
          },
          "metadata": {
            "tags": []
          },
          "execution_count": 7
        }
      ]
    },
    {
      "cell_type": "code",
      "metadata": {
        "id": "OBkcIQVTcjlT",
        "colab_type": "code",
        "colab": {
          "base_uri": "https://localhost:8080/",
          "height": 293
        },
        "outputId": "8b90a23e-2927-44aa-845c-992aa3bf8e01"
      },
      "source": [
        "from sklearn.preprocessing import LabelEncoder\n",
        "le = LabelEncoder()\n",
        "df['Age'] = le.fit_transform(df['Age'])\n",
        "df.head()"
      ],
      "execution_count": 8,
      "outputs": [
        {
          "output_type": "execute_result",
          "data": {
            "text/html": [
              "<div>\n",
              "<style scoped>\n",
              "    .dataframe tbody tr th:only-of-type {\n",
              "        vertical-align: middle;\n",
              "    }\n",
              "\n",
              "    .dataframe tbody tr th {\n",
              "        vertical-align: top;\n",
              "    }\n",
              "\n",
              "    .dataframe thead th {\n",
              "        text-align: right;\n",
              "    }\n",
              "</style>\n",
              "<table border=\"1\" class=\"dataframe\">\n",
              "  <thead>\n",
              "    <tr style=\"text-align: right;\">\n",
              "      <th></th>\n",
              "      <th>Sno</th>\n",
              "      <th>gender</th>\n",
              "      <th>body temperature</th>\n",
              "      <th>Dry Cough</th>\n",
              "      <th>sour throat</th>\n",
              "      <th>weakness</th>\n",
              "      <th>breathing problem</th>\n",
              "      <th>drowsiness</th>\n",
              "      <th>pain in chest</th>\n",
              "      <th>travel history to infected countries</th>\n",
              "      <th>diabetes</th>\n",
              "      <th>heart disease</th>\n",
              "      <th>lung disease</th>\n",
              "      <th>stroke or reduced immunity</th>\n",
              "      <th>symptoms progressed</th>\n",
              "      <th>high blood pressue</th>\n",
              "      <th>kidney disease</th>\n",
              "      <th>change in appetide</th>\n",
              "      <th>Loss of sense of smell</th>\n",
              "      <th>Corona result</th>\n",
              "      <th>Age</th>\n",
              "    </tr>\n",
              "  </thead>\n",
              "  <tbody>\n",
              "    <tr>\n",
              "      <th>0</th>\n",
              "      <td>1</td>\n",
              "      <td>1</td>\n",
              "      <td>98.6</td>\n",
              "      <td>0</td>\n",
              "      <td>0</td>\n",
              "      <td>0</td>\n",
              "      <td>0</td>\n",
              "      <td>0</td>\n",
              "      <td>0</td>\n",
              "      <td>0</td>\n",
              "      <td>0</td>\n",
              "      <td>0</td>\n",
              "      <td>0</td>\n",
              "      <td>0</td>\n",
              "      <td>0</td>\n",
              "      <td>0</td>\n",
              "      <td>0</td>\n",
              "      <td>0</td>\n",
              "      <td>0</td>\n",
              "      <td>0</td>\n",
              "      <td>0</td>\n",
              "    </tr>\n",
              "    <tr>\n",
              "      <th>1</th>\n",
              "      <td>2</td>\n",
              "      <td>1</td>\n",
              "      <td>99.0</td>\n",
              "      <td>1</td>\n",
              "      <td>0</td>\n",
              "      <td>0</td>\n",
              "      <td>0</td>\n",
              "      <td>0</td>\n",
              "      <td>0</td>\n",
              "      <td>0</td>\n",
              "      <td>0</td>\n",
              "      <td>0</td>\n",
              "      <td>0</td>\n",
              "      <td>0</td>\n",
              "      <td>0</td>\n",
              "      <td>0</td>\n",
              "      <td>0</td>\n",
              "      <td>0</td>\n",
              "      <td>0</td>\n",
              "      <td>0</td>\n",
              "      <td>2</td>\n",
              "    </tr>\n",
              "    <tr>\n",
              "      <th>2</th>\n",
              "      <td>3</td>\n",
              "      <td>0</td>\n",
              "      <td>102.0</td>\n",
              "      <td>1</td>\n",
              "      <td>1</td>\n",
              "      <td>1</td>\n",
              "      <td>1</td>\n",
              "      <td>1</td>\n",
              "      <td>1</td>\n",
              "      <td>0</td>\n",
              "      <td>0</td>\n",
              "      <td>0</td>\n",
              "      <td>0</td>\n",
              "      <td>0</td>\n",
              "      <td>0</td>\n",
              "      <td>0</td>\n",
              "      <td>0</td>\n",
              "      <td>1</td>\n",
              "      <td>0</td>\n",
              "      <td>1</td>\n",
              "      <td>1</td>\n",
              "    </tr>\n",
              "    <tr>\n",
              "      <th>3</th>\n",
              "      <td>4</td>\n",
              "      <td>0</td>\n",
              "      <td>100.0</td>\n",
              "      <td>0</td>\n",
              "      <td>0</td>\n",
              "      <td>0</td>\n",
              "      <td>0</td>\n",
              "      <td>1</td>\n",
              "      <td>1</td>\n",
              "      <td>1</td>\n",
              "      <td>1</td>\n",
              "      <td>0</td>\n",
              "      <td>0</td>\n",
              "      <td>0</td>\n",
              "      <td>1</td>\n",
              "      <td>1</td>\n",
              "      <td>0</td>\n",
              "      <td>1</td>\n",
              "      <td>0</td>\n",
              "      <td>2</td>\n",
              "      <td>0</td>\n",
              "    </tr>\n",
              "    <tr>\n",
              "      <th>4</th>\n",
              "      <td>5</td>\n",
              "      <td>1</td>\n",
              "      <td>99.2</td>\n",
              "      <td>0</td>\n",
              "      <td>1</td>\n",
              "      <td>0</td>\n",
              "      <td>1</td>\n",
              "      <td>0</td>\n",
              "      <td>0</td>\n",
              "      <td>1</td>\n",
              "      <td>0</td>\n",
              "      <td>0</td>\n",
              "      <td>1</td>\n",
              "      <td>1</td>\n",
              "      <td>1</td>\n",
              "      <td>0</td>\n",
              "      <td>0</td>\n",
              "      <td>0</td>\n",
              "      <td>1</td>\n",
              "      <td>2</td>\n",
              "      <td>0</td>\n",
              "    </tr>\n",
              "  </tbody>\n",
              "</table>\n",
              "</div>"
            ],
            "text/plain": [
              "   Sno  gender  body temperature  ...  Loss of sense of smell  Corona result  Age\n",
              "0    1       1              98.6  ...                       0              0    0\n",
              "1    2       1              99.0  ...                       0              0    2\n",
              "2    3       0             102.0  ...                       0              1    1\n",
              "3    4       0             100.0  ...                       0              2    0\n",
              "4    5       1              99.2  ...                       1              2    0\n",
              "\n",
              "[5 rows x 21 columns]"
            ]
          },
          "metadata": {
            "tags": []
          },
          "execution_count": 8
        }
      ]
    },
    {
      "cell_type": "code",
      "metadata": {
        "id": "2PggDRbT5CBC",
        "colab_type": "code",
        "colab": {}
      },
      "source": [
        "x=df.drop(['Corona result' , 'Sno' , 'heart disease','kidney disease' , 'high blood pressue' ] , axis=1)"
      ],
      "execution_count": 0,
      "outputs": []
    },
    {
      "cell_type": "code",
      "metadata": {
        "id": "mRYFYAoC5TNN",
        "colab_type": "code",
        "colab": {}
      },
      "source": [
        "y=df['Corona result']"
      ],
      "execution_count": 0,
      "outputs": []
    },
    {
      "cell_type": "code",
      "metadata": {
        "id": "PmQpuoHoLiMq",
        "colab_type": "code",
        "colab": {}
      },
      "source": [
        "y_cat = pd.get_dummies(y)"
      ],
      "execution_count": 0,
      "outputs": []
    },
    {
      "cell_type": "code",
      "metadata": {
        "id": "7LpFoxH06A-S",
        "colab_type": "code",
        "colab": {
          "base_uri": "https://localhost:8080/",
          "height": 85
        },
        "outputId": "478d4a82-e38c-40e5-cb08-d52f2b0e12cd"
      },
      "source": [
        "from sklearn.model_selection import train_test_split\n",
        "x_train , x_test , y_train , y_test = train_test_split(x , y_cat , random_state = 2 , test_size = 0.20)\n",
        "print(x_train.shape)\n",
        "print(y_train.shape)\n",
        "print(x_test.shape)\n",
        "print(y_test.shape)"
      ],
      "execution_count": 12,
      "outputs": [
        {
          "output_type": "stream",
          "text": [
            "(101, 16)\n",
            "(101, 3)\n",
            "(26, 16)\n",
            "(26, 3)\n"
          ],
          "name": "stdout"
        }
      ]
    },
    {
      "cell_type": "code",
      "metadata": {
        "id": "Ous1o5Zy5XsR",
        "colab_type": "code",
        "colab": {
          "base_uri": "https://localhost:8080/",
          "height": 34
        },
        "outputId": "c117f162-6a3e-40d6-be5e-93e8f12412ea"
      },
      "source": [
        "from keras.models import Sequential"
      ],
      "execution_count": 13,
      "outputs": [
        {
          "output_type": "stream",
          "text": [
            "Using TensorFlow backend.\n"
          ],
          "name": "stderr"
        }
      ]
    },
    {
      "cell_type": "code",
      "metadata": {
        "id": "-jda06dG5t-9",
        "colab_type": "code",
        "colab": {}
      },
      "source": [
        "model = Sequential()"
      ],
      "execution_count": 0,
      "outputs": []
    },
    {
      "cell_type": "code",
      "metadata": {
        "id": "OSCv0rcE52Tk",
        "colab_type": "code",
        "colab": {}
      },
      "source": [
        "from keras.layers import Dense"
      ],
      "execution_count": 0,
      "outputs": []
    },
    {
      "cell_type": "code",
      "metadata": {
        "id": "TQrJDm-KHITb",
        "colab_type": "code",
        "colab": {}
      },
      "source": [
        "model.add(Dense(units=64 , input_shape=(16,),\n",
        "                activation='relu',kernel_initializer='glorot_uniform'))"
      ],
      "execution_count": 0,
      "outputs": []
    },
    {
      "cell_type": "code",
      "metadata": {
        "id": "w27nZ5RZIPVQ",
        "colab_type": "code",
        "colab": {
          "base_uri": "https://localhost:8080/",
          "height": 188
        },
        "outputId": "af65474e-d5ea-4948-ba8f-d4e35c529d43"
      },
      "source": [
        "model.summary()"
      ],
      "execution_count": 17,
      "outputs": [
        {
          "output_type": "stream",
          "text": [
            "Model: \"sequential_1\"\n",
            "_________________________________________________________________\n",
            "Layer (type)                 Output Shape              Param #   \n",
            "=================================================================\n",
            "dense_1 (Dense)              (None, 64)                1088      \n",
            "=================================================================\n",
            "Total params: 1,088\n",
            "Trainable params: 1,088\n",
            "Non-trainable params: 0\n",
            "_________________________________________________________________\n"
          ],
          "name": "stdout"
        }
      ]
    },
    {
      "cell_type": "code",
      "metadata": {
        "id": "BLPagDylJJO3",
        "colab_type": "code",
        "colab": {}
      },
      "source": [
        "model.add(Dense(units=40 ,activation='relu',\n",
        "                kernel_initializer='glorot_uniform'))"
      ],
      "execution_count": 0,
      "outputs": []
    },
    {
      "cell_type": "code",
      "metadata": {
        "id": "9bJWWtJKgBBY",
        "colab_type": "code",
        "colab": {}
      },
      "source": [
        ""
      ],
      "execution_count": 0,
      "outputs": []
    },
    {
      "cell_type": "code",
      "metadata": {
        "id": "9B8nuHYFJcst",
        "colab_type": "code",
        "colab": {
          "base_uri": "https://localhost:8080/",
          "height": 222
        },
        "outputId": "4f917fe5-675a-4011-d3e7-c75bae80bcb7"
      },
      "source": [
        "model.summary()"
      ],
      "execution_count": 19,
      "outputs": [
        {
          "output_type": "stream",
          "text": [
            "Model: \"sequential_1\"\n",
            "_________________________________________________________________\n",
            "Layer (type)                 Output Shape              Param #   \n",
            "=================================================================\n",
            "dense_1 (Dense)              (None, 64)                1088      \n",
            "_________________________________________________________________\n",
            "dense_2 (Dense)              (None, 40)                2600      \n",
            "=================================================================\n",
            "Total params: 3,688\n",
            "Trainable params: 3,688\n",
            "Non-trainable params: 0\n",
            "_________________________________________________________________\n"
          ],
          "name": "stdout"
        }
      ]
    },
    {
      "cell_type": "code",
      "metadata": {
        "id": "mjZsBVGbJfFT",
        "colab_type": "code",
        "colab": {}
      },
      "source": [
        "model.add(Dense(units=20 , activation='relu',kernel_initializer='glorot_uniform'))"
      ],
      "execution_count": 0,
      "outputs": []
    },
    {
      "cell_type": "code",
      "metadata": {
        "id": "XeNr2-2dJkMg",
        "colab_type": "code",
        "colab": {}
      },
      "source": [
        ""
      ],
      "execution_count": 0,
      "outputs": []
    },
    {
      "cell_type": "code",
      "metadata": {
        "id": "dIduFMMTJmWw",
        "colab_type": "code",
        "colab": {}
      },
      "source": [
        ""
      ],
      "execution_count": 0,
      "outputs": []
    },
    {
      "cell_type": "code",
      "metadata": {
        "id": "maXQgFkSgPAy",
        "colab_type": "code",
        "colab": {}
      },
      "source": [
        "model.add(Dense(units=8 , activation='relu',kernel_initializer='glorot_uniform'))"
      ],
      "execution_count": 0,
      "outputs": []
    },
    {
      "cell_type": "code",
      "metadata": {
        "id": "rjZ84CIrKKdk",
        "colab_type": "code",
        "colab": {
          "base_uri": "https://localhost:8080/",
          "height": 290
        },
        "outputId": "286781ca-7487-48fc-f83c-440dda4b2754"
      },
      "source": [
        "model.summary()"
      ],
      "execution_count": 22,
      "outputs": [
        {
          "output_type": "stream",
          "text": [
            "Model: \"sequential_1\"\n",
            "_________________________________________________________________\n",
            "Layer (type)                 Output Shape              Param #   \n",
            "=================================================================\n",
            "dense_1 (Dense)              (None, 64)                1088      \n",
            "_________________________________________________________________\n",
            "dense_2 (Dense)              (None, 40)                2600      \n",
            "_________________________________________________________________\n",
            "dense_3 (Dense)              (None, 20)                820       \n",
            "_________________________________________________________________\n",
            "dense_4 (Dense)              (None, 8)                 168       \n",
            "=================================================================\n",
            "Total params: 4,676\n",
            "Trainable params: 4,676\n",
            "Non-trainable params: 0\n",
            "_________________________________________________________________\n"
          ],
          "name": "stdout"
        }
      ]
    },
    {
      "cell_type": "code",
      "metadata": {
        "id": "ygP_MQSBKMmB",
        "colab_type": "code",
        "colab": {}
      },
      "source": [
        "model.add(Dense(units=3 , activation='softmax'))"
      ],
      "execution_count": 0,
      "outputs": []
    },
    {
      "cell_type": "code",
      "metadata": {
        "id": "xj2bwUf1Kehe",
        "colab_type": "code",
        "colab": {
          "base_uri": "https://localhost:8080/",
          "height": 325
        },
        "outputId": "afeedbf5-5369-4276-9583-0a32049412a0"
      },
      "source": [
        "model.summary()"
      ],
      "execution_count": 24,
      "outputs": [
        {
          "output_type": "stream",
          "text": [
            "Model: \"sequential_1\"\n",
            "_________________________________________________________________\n",
            "Layer (type)                 Output Shape              Param #   \n",
            "=================================================================\n",
            "dense_1 (Dense)              (None, 64)                1088      \n",
            "_________________________________________________________________\n",
            "dense_2 (Dense)              (None, 40)                2600      \n",
            "_________________________________________________________________\n",
            "dense_3 (Dense)              (None, 20)                820       \n",
            "_________________________________________________________________\n",
            "dense_4 (Dense)              (None, 8)                 168       \n",
            "_________________________________________________________________\n",
            "dense_5 (Dense)              (None, 3)                 27        \n",
            "=================================================================\n",
            "Total params: 4,703\n",
            "Trainable params: 4,703\n",
            "Non-trainable params: 0\n",
            "_________________________________________________________________\n"
          ],
          "name": "stdout"
        }
      ]
    },
    {
      "cell_type": "code",
      "metadata": {
        "id": "sO7F-0qsKhBA",
        "colab_type": "code",
        "colab": {}
      },
      "source": [
        "from keras.optimizers import Adam"
      ],
      "execution_count": 0,
      "outputs": []
    },
    {
      "cell_type": "code",
      "metadata": {
        "id": "JxwvOIoqKqZi",
        "colab_type": "code",
        "colab": {}
      },
      "source": [
        "model.compile(optimizer=Adam(learning_rate=0.001),  \n",
        "              loss='categorical_crossentropy',\n",
        "             metrics=['accuracy']\n",
        "             )"
      ],
      "execution_count": 0,
      "outputs": []
    },
    {
      "cell_type": "code",
      "metadata": {
        "id": "eM8bXxAnKyJC",
        "colab_type": "code",
        "colab": {
          "base_uri": "https://localhost:8080/",
          "height": 1000
        },
        "outputId": "9ad76318-46e0-444a-d9fd-73127c529273"
      },
      "source": [
        "model.fit(x_train,y_train, epochs=200)"
      ],
      "execution_count": 27,
      "outputs": [
        {
          "output_type": "stream",
          "text": [
            "Epoch 1/200\n",
            "101/101 [==============================] - 0s 1ms/step - loss: 6.9878 - accuracy: 0.2475\n",
            "Epoch 2/200\n",
            "101/101 [==============================] - 0s 92us/step - loss: 4.6991 - accuracy: 0.2475\n",
            "Epoch 3/200\n",
            "101/101 [==============================] - 0s 73us/step - loss: 3.2483 - accuracy: 0.2574\n",
            "Epoch 4/200\n",
            "101/101 [==============================] - 0s 79us/step - loss: 2.2967 - accuracy: 0.5743\n",
            "Epoch 5/200\n",
            "101/101 [==============================] - 0s 80us/step - loss: 1.6991 - accuracy: 0.2574\n",
            "Epoch 6/200\n",
            "101/101 [==============================] - 0s 78us/step - loss: 1.1876 - accuracy: 0.2871\n",
            "Epoch 7/200\n",
            "101/101 [==============================] - 0s 92us/step - loss: 1.0367 - accuracy: 0.5545\n",
            "Epoch 8/200\n",
            "101/101 [==============================] - 0s 101us/step - loss: 1.0170 - accuracy: 0.5545\n",
            "Epoch 9/200\n",
            "101/101 [==============================] - 0s 77us/step - loss: 1.0135 - accuracy: 0.5545\n",
            "Epoch 10/200\n",
            "101/101 [==============================] - 0s 86us/step - loss: 1.0032 - accuracy: 0.5545\n",
            "Epoch 11/200\n",
            "101/101 [==============================] - 0s 96us/step - loss: 0.9948 - accuracy: 0.5545\n",
            "Epoch 12/200\n",
            "101/101 [==============================] - 0s 102us/step - loss: 0.9943 - accuracy: 0.5545\n",
            "Epoch 13/200\n",
            "101/101 [==============================] - 0s 83us/step - loss: 0.9940 - accuracy: 0.5545\n",
            "Epoch 14/200\n",
            "101/101 [==============================] - 0s 95us/step - loss: 0.9939 - accuracy: 0.5545\n",
            "Epoch 15/200\n",
            "101/101 [==============================] - 0s 89us/step - loss: 0.9943 - accuracy: 0.5545\n",
            "Epoch 16/200\n",
            "101/101 [==============================] - 0s 91us/step - loss: 0.9939 - accuracy: 0.5545\n",
            "Epoch 17/200\n",
            "101/101 [==============================] - 0s 92us/step - loss: 0.9927 - accuracy: 0.5545\n",
            "Epoch 18/200\n",
            "101/101 [==============================] - 0s 90us/step - loss: 0.9926 - accuracy: 0.5545\n",
            "Epoch 19/200\n",
            "101/101 [==============================] - 0s 86us/step - loss: 0.9916 - accuracy: 0.5545\n",
            "Epoch 20/200\n",
            "101/101 [==============================] - 0s 95us/step - loss: 0.9912 - accuracy: 0.5545\n",
            "Epoch 21/200\n",
            "101/101 [==============================] - 0s 89us/step - loss: 0.9939 - accuracy: 0.5545\n",
            "Epoch 22/200\n",
            "101/101 [==============================] - 0s 135us/step - loss: 0.9943 - accuracy: 0.5545\n",
            "Epoch 23/200\n",
            "101/101 [==============================] - 0s 86us/step - loss: 0.9969 - accuracy: 0.5545\n",
            "Epoch 24/200\n",
            "101/101 [==============================] - 0s 104us/step - loss: 0.9963 - accuracy: 0.5545\n",
            "Epoch 25/200\n",
            "101/101 [==============================] - 0s 104us/step - loss: 0.9937 - accuracy: 0.5545\n",
            "Epoch 26/200\n",
            "101/101 [==============================] - 0s 107us/step - loss: 0.9902 - accuracy: 0.5545\n",
            "Epoch 27/200\n",
            "101/101 [==============================] - 0s 114us/step - loss: 0.9888 - accuracy: 0.5545\n",
            "Epoch 28/200\n",
            "101/101 [==============================] - 0s 140us/step - loss: 0.9901 - accuracy: 0.5545\n",
            "Epoch 29/200\n",
            "101/101 [==============================] - 0s 118us/step - loss: 0.9906 - accuracy: 0.5545\n",
            "Epoch 30/200\n",
            "101/101 [==============================] - 0s 99us/step - loss: 0.9898 - accuracy: 0.5545\n",
            "Epoch 31/200\n",
            "101/101 [==============================] - 0s 102us/step - loss: 0.9900 - accuracy: 0.5545\n",
            "Epoch 32/200\n",
            "101/101 [==============================] - 0s 87us/step - loss: 0.9897 - accuracy: 0.5545\n",
            "Epoch 33/200\n",
            "101/101 [==============================] - 0s 81us/step - loss: 0.9903 - accuracy: 0.5545\n",
            "Epoch 34/200\n",
            "101/101 [==============================] - 0s 81us/step - loss: 0.9892 - accuracy: 0.5545\n",
            "Epoch 35/200\n",
            "101/101 [==============================] - 0s 82us/step - loss: 0.9892 - accuracy: 0.5545\n",
            "Epoch 36/200\n",
            "101/101 [==============================] - 0s 92us/step - loss: 0.9884 - accuracy: 0.5545\n",
            "Epoch 37/200\n",
            "101/101 [==============================] - 0s 90us/step - loss: 0.9880 - accuracy: 0.5545\n",
            "Epoch 38/200\n",
            "101/101 [==============================] - 0s 112us/step - loss: 0.9884 - accuracy: 0.5545\n",
            "Epoch 39/200\n",
            "101/101 [==============================] - 0s 122us/step - loss: 0.9876 - accuracy: 0.5545\n",
            "Epoch 40/200\n",
            "101/101 [==============================] - 0s 100us/step - loss: 0.9864 - accuracy: 0.5545\n",
            "Epoch 41/200\n",
            "101/101 [==============================] - 0s 83us/step - loss: 0.9895 - accuracy: 0.5545\n",
            "Epoch 42/200\n",
            "101/101 [==============================] - 0s 109us/step - loss: 0.9930 - accuracy: 0.5545\n",
            "Epoch 43/200\n",
            "101/101 [==============================] - 0s 102us/step - loss: 0.9942 - accuracy: 0.5545\n",
            "Epoch 44/200\n",
            "101/101 [==============================] - 0s 108us/step - loss: 0.9880 - accuracy: 0.5545\n",
            "Epoch 45/200\n",
            "101/101 [==============================] - 0s 93us/step - loss: 0.9863 - accuracy: 0.5545\n",
            "Epoch 46/200\n",
            "101/101 [==============================] - 0s 98us/step - loss: 0.9873 - accuracy: 0.5545\n",
            "Epoch 47/200\n",
            "101/101 [==============================] - 0s 93us/step - loss: 0.9893 - accuracy: 0.5545\n",
            "Epoch 48/200\n",
            "101/101 [==============================] - 0s 116us/step - loss: 0.9863 - accuracy: 0.5545\n",
            "Epoch 49/200\n",
            "101/101 [==============================] - 0s 97us/step - loss: 0.9849 - accuracy: 0.5545\n",
            "Epoch 50/200\n",
            "101/101 [==============================] - 0s 117us/step - loss: 0.9859 - accuracy: 0.5545\n",
            "Epoch 51/200\n",
            "101/101 [==============================] - 0s 88us/step - loss: 0.9856 - accuracy: 0.5545\n",
            "Epoch 52/200\n",
            "101/101 [==============================] - 0s 100us/step - loss: 0.9845 - accuracy: 0.5545\n",
            "Epoch 53/200\n",
            "101/101 [==============================] - 0s 93us/step - loss: 0.9846 - accuracy: 0.5545\n",
            "Epoch 54/200\n",
            "101/101 [==============================] - 0s 86us/step - loss: 0.9850 - accuracy: 0.5545\n",
            "Epoch 55/200\n",
            "101/101 [==============================] - 0s 84us/step - loss: 0.9850 - accuracy: 0.5545\n",
            "Epoch 56/200\n",
            "101/101 [==============================] - 0s 93us/step - loss: 0.9834 - accuracy: 0.5545\n",
            "Epoch 57/200\n",
            "101/101 [==============================] - 0s 100us/step - loss: 0.9829 - accuracy: 0.5545\n",
            "Epoch 58/200\n",
            "101/101 [==============================] - 0s 111us/step - loss: 0.9820 - accuracy: 0.5545\n",
            "Epoch 59/200\n",
            "101/101 [==============================] - 0s 96us/step - loss: 0.9831 - accuracy: 0.5545\n",
            "Epoch 60/200\n",
            "101/101 [==============================] - 0s 100us/step - loss: 0.9847 - accuracy: 0.5545\n",
            "Epoch 61/200\n",
            "101/101 [==============================] - 0s 89us/step - loss: 0.9867 - accuracy: 0.5545\n",
            "Epoch 62/200\n",
            "101/101 [==============================] - 0s 96us/step - loss: 0.9867 - accuracy: 0.5545\n",
            "Epoch 63/200\n",
            "101/101 [==============================] - 0s 92us/step - loss: 0.9833 - accuracy: 0.5545\n",
            "Epoch 64/200\n",
            "101/101 [==============================] - 0s 86us/step - loss: 0.9801 - accuracy: 0.5545\n",
            "Epoch 65/200\n",
            "101/101 [==============================] - 0s 96us/step - loss: 0.9812 - accuracy: 0.5545\n",
            "Epoch 66/200\n",
            "101/101 [==============================] - 0s 84us/step - loss: 0.9805 - accuracy: 0.5545\n",
            "Epoch 67/200\n",
            "101/101 [==============================] - 0s 88us/step - loss: 0.9791 - accuracy: 0.5545\n",
            "Epoch 68/200\n",
            "101/101 [==============================] - 0s 82us/step - loss: 0.9785 - accuracy: 0.5545\n",
            "Epoch 69/200\n",
            "101/101 [==============================] - 0s 106us/step - loss: 0.9782 - accuracy: 0.5545\n",
            "Epoch 70/200\n",
            "101/101 [==============================] - 0s 82us/step - loss: 0.9768 - accuracy: 0.5545\n",
            "Epoch 71/200\n",
            "101/101 [==============================] - 0s 85us/step - loss: 0.9798 - accuracy: 0.5545\n",
            "Epoch 72/200\n",
            "101/101 [==============================] - 0s 86us/step - loss: 0.9777 - accuracy: 0.5545\n",
            "Epoch 73/200\n",
            "101/101 [==============================] - 0s 89us/step - loss: 0.9782 - accuracy: 0.5545\n",
            "Epoch 74/200\n",
            "101/101 [==============================] - 0s 100us/step - loss: 0.9792 - accuracy: 0.5545\n",
            "Epoch 75/200\n",
            "101/101 [==============================] - 0s 103us/step - loss: 0.9781 - accuracy: 0.5545\n",
            "Epoch 76/200\n",
            "101/101 [==============================] - 0s 153us/step - loss: 0.9752 - accuracy: 0.5545\n",
            "Epoch 77/200\n",
            "101/101 [==============================] - 0s 88us/step - loss: 0.9750 - accuracy: 0.5545\n",
            "Epoch 78/200\n",
            "101/101 [==============================] - 0s 97us/step - loss: 0.9745 - accuracy: 0.5545\n",
            "Epoch 79/200\n",
            "101/101 [==============================] - 0s 89us/step - loss: 0.9749 - accuracy: 0.5545\n",
            "Epoch 80/200\n",
            "101/101 [==============================] - 0s 116us/step - loss: 0.9725 - accuracy: 0.5545\n",
            "Epoch 81/200\n",
            "101/101 [==============================] - 0s 103us/step - loss: 0.9728 - accuracy: 0.5545\n",
            "Epoch 82/200\n",
            "101/101 [==============================] - 0s 89us/step - loss: 0.9708 - accuracy: 0.5545\n",
            "Epoch 83/200\n",
            "101/101 [==============================] - 0s 81us/step - loss: 0.9698 - accuracy: 0.5545\n",
            "Epoch 84/200\n",
            "101/101 [==============================] - 0s 98us/step - loss: 0.9679 - accuracy: 0.5545\n",
            "Epoch 85/200\n",
            "101/101 [==============================] - 0s 90us/step - loss: 0.9697 - accuracy: 0.5545\n",
            "Epoch 86/200\n",
            "101/101 [==============================] - 0s 126us/step - loss: 0.9692 - accuracy: 0.5545\n",
            "Epoch 87/200\n",
            "101/101 [==============================] - 0s 107us/step - loss: 0.9674 - accuracy: 0.5545\n",
            "Epoch 88/200\n",
            "101/101 [==============================] - 0s 104us/step - loss: 0.9662 - accuracy: 0.5545\n",
            "Epoch 89/200\n",
            "101/101 [==============================] - 0s 102us/step - loss: 0.9659 - accuracy: 0.5545\n",
            "Epoch 90/200\n",
            "101/101 [==============================] - 0s 94us/step - loss: 0.9639 - accuracy: 0.5545\n",
            "Epoch 91/200\n",
            "101/101 [==============================] - 0s 114us/step - loss: 0.9626 - accuracy: 0.5545\n",
            "Epoch 92/200\n",
            "101/101 [==============================] - 0s 91us/step - loss: 0.9619 - accuracy: 0.5545\n",
            "Epoch 93/200\n",
            "101/101 [==============================] - 0s 81us/step - loss: 0.9626 - accuracy: 0.5545\n",
            "Epoch 94/200\n",
            "101/101 [==============================] - 0s 84us/step - loss: 0.9637 - accuracy: 0.5545\n",
            "Epoch 95/200\n",
            "101/101 [==============================] - 0s 88us/step - loss: 0.9715 - accuracy: 0.5545\n",
            "Epoch 96/200\n",
            "101/101 [==============================] - 0s 89us/step - loss: 0.9717 - accuracy: 0.5545\n",
            "Epoch 97/200\n",
            "101/101 [==============================] - 0s 96us/step - loss: 0.9671 - accuracy: 0.5545\n",
            "Epoch 98/200\n",
            "101/101 [==============================] - 0s 106us/step - loss: 0.9582 - accuracy: 0.5545\n",
            "Epoch 99/200\n",
            "101/101 [==============================] - 0s 99us/step - loss: 0.9535 - accuracy: 0.5545\n",
            "Epoch 100/200\n",
            "101/101 [==============================] - 0s 95us/step - loss: 0.9528 - accuracy: 0.5545\n",
            "Epoch 101/200\n",
            "101/101 [==============================] - 0s 90us/step - loss: 0.9526 - accuracy: 0.5545\n",
            "Epoch 102/200\n",
            "101/101 [==============================] - 0s 113us/step - loss: 0.9506 - accuracy: 0.5545\n",
            "Epoch 103/200\n",
            "101/101 [==============================] - 0s 112us/step - loss: 0.9518 - accuracy: 0.5545\n",
            "Epoch 104/200\n",
            "101/101 [==============================] - 0s 132us/step - loss: 0.9500 - accuracy: 0.5545\n",
            "Epoch 105/200\n",
            "101/101 [==============================] - 0s 91us/step - loss: 0.9449 - accuracy: 0.5545\n",
            "Epoch 106/200\n",
            "101/101 [==============================] - 0s 89us/step - loss: 0.9431 - accuracy: 0.5545\n",
            "Epoch 107/200\n",
            "101/101 [==============================] - 0s 102us/step - loss: 0.9441 - accuracy: 0.5545\n",
            "Epoch 108/200\n",
            "101/101 [==============================] - 0s 104us/step - loss: 0.9411 - accuracy: 0.5545\n",
            "Epoch 109/200\n",
            "101/101 [==============================] - 0s 92us/step - loss: 0.9375 - accuracy: 0.5545\n",
            "Epoch 110/200\n",
            "101/101 [==============================] - 0s 95us/step - loss: 0.9347 - accuracy: 0.5545\n",
            "Epoch 111/200\n",
            "101/101 [==============================] - 0s 121us/step - loss: 0.9329 - accuracy: 0.5545\n",
            "Epoch 112/200\n",
            "101/101 [==============================] - 0s 94us/step - loss: 0.9293 - accuracy: 0.5545\n",
            "Epoch 113/200\n",
            "101/101 [==============================] - 0s 137us/step - loss: 0.9254 - accuracy: 0.5545\n",
            "Epoch 114/200\n",
            "101/101 [==============================] - 0s 98us/step - loss: 0.9236 - accuracy: 0.5545\n",
            "Epoch 115/200\n",
            "101/101 [==============================] - 0s 77us/step - loss: 0.9231 - accuracy: 0.5545\n",
            "Epoch 116/200\n",
            "101/101 [==============================] - 0s 74us/step - loss: 0.9169 - accuracy: 0.5545\n",
            "Epoch 117/200\n",
            "101/101 [==============================] - 0s 123us/step - loss: 0.9178 - accuracy: 0.5545\n",
            "Epoch 118/200\n",
            "101/101 [==============================] - 0s 87us/step - loss: 0.9098 - accuracy: 0.5545\n",
            "Epoch 119/200\n",
            "101/101 [==============================] - 0s 91us/step - loss: 0.9072 - accuracy: 0.5545\n",
            "Epoch 120/200\n",
            "101/101 [==============================] - 0s 113us/step - loss: 0.9065 - accuracy: 0.5545\n",
            "Epoch 121/200\n",
            "101/101 [==============================] - 0s 95us/step - loss: 0.8998 - accuracy: 0.5545\n",
            "Epoch 122/200\n",
            "101/101 [==============================] - 0s 108us/step - loss: 0.8984 - accuracy: 0.5545\n",
            "Epoch 123/200\n",
            "101/101 [==============================] - 0s 83us/step - loss: 0.8897 - accuracy: 0.5545\n",
            "Epoch 124/200\n",
            "101/101 [==============================] - 0s 93us/step - loss: 0.8872 - accuracy: 0.5545\n",
            "Epoch 125/200\n",
            "101/101 [==============================] - 0s 87us/step - loss: 0.8822 - accuracy: 0.5545\n",
            "Epoch 126/200\n",
            "101/101 [==============================] - 0s 86us/step - loss: 0.8751 - accuracy: 0.5545\n",
            "Epoch 127/200\n",
            "101/101 [==============================] - 0s 87us/step - loss: 0.8737 - accuracy: 0.5545\n",
            "Epoch 128/200\n",
            "101/101 [==============================] - 0s 85us/step - loss: 0.8602 - accuracy: 0.5545\n",
            "Epoch 129/200\n",
            "101/101 [==============================] - 0s 86us/step - loss: 0.8775 - accuracy: 0.5743\n",
            "Epoch 130/200\n",
            "101/101 [==============================] - 0s 124us/step - loss: 0.8557 - accuracy: 0.5644\n",
            "Epoch 131/200\n",
            "101/101 [==============================] - 0s 141us/step - loss: 0.8656 - accuracy: 0.5545\n",
            "Epoch 132/200\n",
            "101/101 [==============================] - 0s 102us/step - loss: 0.8403 - accuracy: 0.5545\n",
            "Epoch 133/200\n",
            "101/101 [==============================] - 0s 114us/step - loss: 0.8414 - accuracy: 0.5644\n",
            "Epoch 134/200\n",
            "101/101 [==============================] - 0s 103us/step - loss: 0.8338 - accuracy: 0.5743\n",
            "Epoch 135/200\n",
            "101/101 [==============================] - 0s 100us/step - loss: 0.8228 - accuracy: 0.5644\n",
            "Epoch 136/200\n",
            "101/101 [==============================] - 0s 86us/step - loss: 0.8155 - accuracy: 0.5743\n",
            "Epoch 137/200\n",
            "101/101 [==============================] - 0s 86us/step - loss: 0.8662 - accuracy: 0.6238\n",
            "Epoch 138/200\n",
            "101/101 [==============================] - 0s 104us/step - loss: 0.8128 - accuracy: 0.6436\n",
            "Epoch 139/200\n",
            "101/101 [==============================] - 0s 91us/step - loss: 0.8527 - accuracy: 0.6832\n",
            "Epoch 140/200\n",
            "101/101 [==============================] - 0s 98us/step - loss: 0.8609 - accuracy: 0.6040\n",
            "Epoch 141/200\n",
            "101/101 [==============================] - 0s 144us/step - loss: 0.8471 - accuracy: 0.5842\n",
            "Epoch 142/200\n",
            "101/101 [==============================] - 0s 96us/step - loss: 0.7885 - accuracy: 0.6832\n",
            "Epoch 143/200\n",
            "101/101 [==============================] - 0s 84us/step - loss: 0.7825 - accuracy: 0.6040\n",
            "Epoch 144/200\n",
            "101/101 [==============================] - 0s 112us/step - loss: 0.7796 - accuracy: 0.5644\n",
            "Epoch 145/200\n",
            "101/101 [==============================] - 0s 104us/step - loss: 0.7828 - accuracy: 0.6634\n",
            "Epoch 146/200\n",
            "101/101 [==============================] - 0s 99us/step - loss: 0.7792 - accuracy: 0.7129\n",
            "Epoch 147/200\n",
            "101/101 [==============================] - 0s 86us/step - loss: 0.7779 - accuracy: 0.6238\n",
            "Epoch 148/200\n",
            "101/101 [==============================] - 0s 93us/step - loss: 0.7585 - accuracy: 0.7129\n",
            "Epoch 149/200\n",
            "101/101 [==============================] - 0s 101us/step - loss: 0.7623 - accuracy: 0.7327\n",
            "Epoch 150/200\n",
            "101/101 [==============================] - 0s 108us/step - loss: 0.7454 - accuracy: 0.6733\n",
            "Epoch 151/200\n",
            "101/101 [==============================] - 0s 100us/step - loss: 0.7254 - accuracy: 0.7030\n",
            "Epoch 152/200\n",
            "101/101 [==============================] - 0s 109us/step - loss: 0.7630 - accuracy: 0.7129\n",
            "Epoch 153/200\n",
            "101/101 [==============================] - 0s 110us/step - loss: 0.7350 - accuracy: 0.6238\n",
            "Epoch 154/200\n",
            "101/101 [==============================] - 0s 89us/step - loss: 0.7478 - accuracy: 0.6535\n",
            "Epoch 155/200\n",
            "101/101 [==============================] - 0s 119us/step - loss: 0.7141 - accuracy: 0.7426\n",
            "Epoch 156/200\n",
            "101/101 [==============================] - 0s 84us/step - loss: 0.7243 - accuracy: 0.7327\n",
            "Epoch 157/200\n",
            "101/101 [==============================] - 0s 83us/step - loss: 0.7140 - accuracy: 0.7426\n",
            "Epoch 158/200\n",
            "101/101 [==============================] - 0s 97us/step - loss: 0.7116 - accuracy: 0.7426\n",
            "Epoch 159/200\n",
            "101/101 [==============================] - 0s 89us/step - loss: 0.7022 - accuracy: 0.7426\n",
            "Epoch 160/200\n",
            "101/101 [==============================] - 0s 88us/step - loss: 0.6941 - accuracy: 0.7228\n",
            "Epoch 161/200\n",
            "101/101 [==============================] - 0s 112us/step - loss: 0.6729 - accuracy: 0.7525\n",
            "Epoch 162/200\n",
            "101/101 [==============================] - 0s 92us/step - loss: 0.7192 - accuracy: 0.7228\n",
            "Epoch 163/200\n",
            "101/101 [==============================] - 0s 89us/step - loss: 0.7091 - accuracy: 0.7129\n",
            "Epoch 164/200\n",
            "101/101 [==============================] - 0s 143us/step - loss: 0.6973 - accuracy: 0.7426\n",
            "Epoch 165/200\n",
            "101/101 [==============================] - 0s 101us/step - loss: 0.6658 - accuracy: 0.7426\n",
            "Epoch 166/200\n",
            "101/101 [==============================] - 0s 104us/step - loss: 0.6825 - accuracy: 0.7228\n",
            "Epoch 167/200\n",
            "101/101 [==============================] - 0s 89us/step - loss: 0.6631 - accuracy: 0.7327\n",
            "Epoch 168/200\n",
            "101/101 [==============================] - 0s 89us/step - loss: 0.6834 - accuracy: 0.7426\n",
            "Epoch 169/200\n",
            "101/101 [==============================] - 0s 97us/step - loss: 0.7134 - accuracy: 0.7129\n",
            "Epoch 170/200\n",
            "101/101 [==============================] - 0s 112us/step - loss: 0.7036 - accuracy: 0.7129\n",
            "Epoch 171/200\n",
            "101/101 [==============================] - 0s 88us/step - loss: 0.6848 - accuracy: 0.7525\n",
            "Epoch 172/200\n",
            "101/101 [==============================] - 0s 103us/step - loss: 0.7304 - accuracy: 0.6337\n",
            "Epoch 173/200\n",
            "101/101 [==============================] - 0s 97us/step - loss: 0.6790 - accuracy: 0.7228\n",
            "Epoch 174/200\n",
            "101/101 [==============================] - 0s 82us/step - loss: 0.6495 - accuracy: 0.7228\n",
            "Epoch 175/200\n",
            "101/101 [==============================] - 0s 93us/step - loss: 0.6740 - accuracy: 0.7129\n",
            "Epoch 176/200\n",
            "101/101 [==============================] - 0s 95us/step - loss: 0.6551 - accuracy: 0.7327\n",
            "Epoch 177/200\n",
            "101/101 [==============================] - 0s 87us/step - loss: 0.6154 - accuracy: 0.7525\n",
            "Epoch 178/200\n",
            "101/101 [==============================] - 0s 102us/step - loss: 0.6534 - accuracy: 0.7228\n",
            "Epoch 179/200\n",
            "101/101 [==============================] - 0s 90us/step - loss: 0.6036 - accuracy: 0.7525\n",
            "Epoch 180/200\n",
            "101/101 [==============================] - 0s 118us/step - loss: 0.6685 - accuracy: 0.7327\n",
            "Epoch 181/200\n",
            "101/101 [==============================] - 0s 88us/step - loss: 0.6250 - accuracy: 0.7624\n",
            "Epoch 182/200\n",
            "101/101 [==============================] - 0s 86us/step - loss: 0.6081 - accuracy: 0.7921\n",
            "Epoch 183/200\n",
            "101/101 [==============================] - 0s 85us/step - loss: 0.6619 - accuracy: 0.7327\n",
            "Epoch 184/200\n",
            "101/101 [==============================] - 0s 130us/step - loss: 0.6459 - accuracy: 0.7525\n",
            "Epoch 185/200\n",
            "101/101 [==============================] - 0s 102us/step - loss: 0.5754 - accuracy: 0.7723\n",
            "Epoch 186/200\n",
            "101/101 [==============================] - 0s 92us/step - loss: 0.7238 - accuracy: 0.7030\n",
            "Epoch 187/200\n",
            "101/101 [==============================] - 0s 100us/step - loss: 0.6545 - accuracy: 0.7525\n",
            "Epoch 188/200\n",
            "101/101 [==============================] - 0s 90us/step - loss: 0.6738 - accuracy: 0.7525\n",
            "Epoch 189/200\n",
            "101/101 [==============================] - 0s 94us/step - loss: 0.6209 - accuracy: 0.7624\n",
            "Epoch 190/200\n",
            "101/101 [==============================] - 0s 93us/step - loss: 0.5933 - accuracy: 0.7822\n",
            "Epoch 191/200\n",
            "101/101 [==============================] - 0s 100us/step - loss: 0.5790 - accuracy: 0.7525\n",
            "Epoch 192/200\n",
            "101/101 [==============================] - 0s 106us/step - loss: 0.5869 - accuracy: 0.7525\n",
            "Epoch 193/200\n",
            "101/101 [==============================] - 0s 105us/step - loss: 0.5719 - accuracy: 0.7624\n",
            "Epoch 194/200\n",
            "101/101 [==============================] - 0s 86us/step - loss: 0.5792 - accuracy: 0.7723\n",
            "Epoch 195/200\n",
            "101/101 [==============================] - 0s 85us/step - loss: 0.5660 - accuracy: 0.7624\n",
            "Epoch 196/200\n",
            "101/101 [==============================] - 0s 82us/step - loss: 0.5949 - accuracy: 0.7525\n",
            "Epoch 197/200\n",
            "101/101 [==============================] - 0s 82us/step - loss: 0.5661 - accuracy: 0.7624\n",
            "Epoch 198/200\n",
            "101/101 [==============================] - 0s 95us/step - loss: 0.5821 - accuracy: 0.7624\n",
            "Epoch 199/200\n",
            "101/101 [==============================] - 0s 97us/step - loss: 0.5740 - accuracy: 0.7723\n",
            "Epoch 200/200\n",
            "101/101 [==============================] - 0s 106us/step - loss: 0.5574 - accuracy: 0.8020\n"
          ],
          "name": "stdout"
        },
        {
          "output_type": "execute_result",
          "data": {
            "text/plain": [
              "<keras.callbacks.callbacks.History at 0x7ff82a82fc18>"
            ]
          },
          "metadata": {
            "tags": []
          },
          "execution_count": 27
        }
      ]
    },
    {
      "cell_type": "code",
      "metadata": {
        "id": "UtUK9DpcLAZT",
        "colab_type": "code",
        "colab": {}
      },
      "source": [
        ""
      ],
      "execution_count": 0,
      "outputs": []
    }
  ]
}